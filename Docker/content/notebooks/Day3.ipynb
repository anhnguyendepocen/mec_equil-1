{
 "cells": [
  {
   "cell_type": "markdown",
   "metadata": {},
   "source": [
    "# <center>Day 3: matching models with imperfectly transferable utility</center>\n",
    "### <center>Alfred Galichon (NYU)</center>\n",
    "## <center>'math+econ+code' masterclass on equilibrium transport and matching models in economics</center>\n",
    "<center>© 2020 by Alfred Galichon.  Support from  NSF DMS-1716489 and ERC CoG-866274 EQUIPRICE grants is acknowledged.</center>\n",
    "\n",
    "#### <center>with Python code</center>\n",
    "\n",
    "**If you reuse code from this masterclass, please cite as:**<br>\n",
    "Alfred Galichon, 'math+econ+code' masterclass on equilibrium transport and matching models in economics, June 2020. https://github.com/math-econ-code/mec_equil"
   ]
  },
  {
   "cell_type": "markdown",
   "metadata": {},
   "source": [
    "\n",
    "# References\n",
    "\n",
    "* Alfred Galichon, Scott Kominers, and Simon Weber (2019). \"Costly Concessions: An Empirical Framework for Matching with Imperfectly Transferable Utility.\" *Journal of Political Economy* 127, no. 6, pp. 2875-2925.\n",
    "\n",
    "# Matching with nonlinear taxes\n",
    "\n",
    "## Generating the data\n",
    "\n",
    "We will generate the same type of worker/firm data as yesterday."
   ]
  },
  {
   "cell_type": "code",
   "execution_count": 9,
   "metadata": {},
   "outputs": [],
   "source": [
    "import numpy as np\n",
    "from scipy.spatial.distance import cdist\n",
    "\n",
    "np.random.seed(777)\n",
    "d = 8\n",
    "nbx = 50\n",
    "nby = 30\n",
    "\n",
    "rg = .8\n",
    "rs = .6\n",
    "r  = .7\n",
    "\n",
    "n_x = np.ones(nbx)\n",
    "m_y = np.ones(nby)\n",
    "ξ_x_k = np.random.rand(nbx,d)\n",
    "ζ_y_k = np.random.rand(nby,d)\n",
    "\n",
    "α_x_y = np.zeros((nbx,nby))\n",
    "γ_x_y = np.zeros((nbx,nby))\n",
    "for x in range(nbx):\n",
    "    for y in range(nby):\n",
    "        α_x_y[x,y] = -  np.linalg.norm(ξ_x_k[x,6:7]-ζ_y_k[y,6:7])-5\n",
    "        γ_x_y[x,y] = 10+5*(np.sum( (ξ_x_k[x,0:3]*ζ_y_k[y,0:3])**rg )**(r/rg)+(  np.sum(  ξ_x_k[x,3:6]*ζ_y_k[y,3:6] )**rs )**(r/rs))**r\n",
    "        \n",
    "Φ_x_y = α_x_y + γ_x_y"
   ]
  },
  {
   "cell_type": "markdown",
   "metadata": {},
   "source": [
    "## Tax schedule\n",
    "\n",
    "In 2020, the federal tax schedule for a single taxpayer was as follows: \n",
    "\n",
    "|MARGINAL RATE | LOWER BRACKET | UPPER BRACKET  | TAX OWED  |\n",
    "| :----- | :----- | :----- | :------------------------------------------------------------- |\n",
    "| 10\\% | \\$0  | \\$9,700    | 10\\% of taxable income |\n",
    "| 12\\% | \\$9,701 | \\$39,475 | \\$970 plus 12\\% of the excess over \\\\$9,700 |\n",
    "| 22\\% | \\$39,476 | \\$84,200 | \\$4,543 plus 22\\% of the excess over \\\\$39,475 |\n",
    "| 24\\% | \\$84,201 | \\$160,725 | \\$14,382.50 plus 24\\% of the excess over \\\\$84,200 |\n",
    "| 32\\% | \\$160,726 | \\$204,100 | \\$32,748.50 plus 32\\% of the excess over \\\\$160,725 |\n",
    "| 35\\% | \\$204,101 | \\$510,300 | \\$46,638.50 plus 35\\% of the excess over \\\\$204,100 |\n",
    "| 37\\% | \\$510,300 | - | \\$153,798.50 plus 37\\% of the excess over \\\\$510,300 |\n",
    "\n",
    "(Source: https://www.investopedia.com/terms/t/taxbracket.asp)\n",
    "\n",
    "Let $g$ be the gross wage, and $n$ be the net wage, we have that the net wage is a piecewise linear, increasing and concave function of the gross wage, whose slopes are $1-\\tau_k$, so it expresses as $$ n = \\min_k \\{N_k+(1-\\tau_k) g\\},$$\n",
    "where we have added $k=0,W_0=1,\\tau_0=0$ to express that there is no tax on negative wages.\n",
    "\n",
    "We encode this as:\n"
   ]
  },
  {
   "cell_type": "code",
   "execution_count": 11,
   "metadata": {},
   "outputs": [
    {
     "data": {
      "image/png": "[encoded data removed]",
      "text/plain": [
       "<Figure size 432x288 with 1 Axes>"
      ]
     },
     "metadata": {
      "needs_background": "light"
     },
     "output_type": "display_data"
    }
   ],
   "source": [
    "lower_bracket = np.array([0, 9.701, 39.476, 84.201, 160.726, 204.101, 510.300])/100\n",
    "marginal_tax =  np.array([.1,.12,   .22,    .24,    .32,     .35,     .37    ])\n",
    "tax_on_previous_brackets = np.zeros(lower_bracket.size)\n",
    "for i in range(1,lower_bracket.size):\n",
    "    tax_on_previous_brackets[i] = tax_on_previous_brackets[i-1] + marginal_tax[i-1]*(lower_bracket[i]-lower_bracket[i-1])\n",
    "    \n",
    "N_k = np.append(0,marginal_tax*lower_bracket - tax_on_previous_brackets ) \n",
    "τ_k = np.append(0,marginal_tax)\n",
    "nbk =N_k.size\n",
    "\n",
    "TaxPaid = np.vectorize(lambda g : max(g*τ_k -N_k))\n",
    "NetFromGross = np.vectorize(lambda g : min(N_k+g*(1-τ_k)))\n",
    "\n",
    "import matplotlib.pyplot as plt\n",
    "gs = np.arange(0,1,0.01)\n",
    "ts = NetFromGross(gs)\n",
    "plt.plot(gs,ts)\n",
    "plt.ylabel('Tax paid')\n",
    "plt.show()"
   ]
  },
  {
   "cell_type": "markdown",
   "metadata": {},
   "source": [
    "## The class `GKW_model`\n",
    "### Distance function\n",
    "Note that $n_{xy} \\leq \\min_k \\{N_k+(1-\\tau_k) g_{xy}\\}$ is equivalent to $$ \\frac{- N_k - (1-\\tau_k) g_{xy} + n_{xy}} {2 - \\tau_k} \\leq 0~\\forall k.$$\n",
    "As $n_{xy}=U_{xy}-\\alpha_{xy}$ and $g_{xy} = \\gamma_{xy} -V_{xy}$, this is equivalent to $$ \\frac{ (U_{xy} - \\alpha_{xy} ) + (1-\\tau_k) ( V_{xy} - \\gamma_{xy}) -N_k } {2 - \\tau_k} \\leq 0~\\forall k, $$\n",
    "therefore, we get\n",
    "$$ D_{xy}(U,V) = \\max_k \\left\\{ \\frac{ (U - \\alpha_{xy} ) + (1-\\tau_k) ( V - \\gamma_{xy}) -N_k } {2 - \\tau_k} \\right\\} $$\n",
    "or,  setting<br>\n",
    "$\\lambda_k = 1 /  (2 - \\tau_k)$ and<br>\n",
    "$\\nu_k = (1 - \\tau_k) /  (2 - \\tau_k)$ and<br>\n",
    "$\\Phi^k_{xy} = \\lambda_k (\\alpha_{xy}+N_k) + \\nu_k \\gamma_{xy}$<br>\n",
    "$$ D_{xy}(U,V) = \\max_k \\left\\{ \\lambda_k U + \\nu_k V -  \\Phi^k_{xy} \\right\\} $$\n",
    "### Matching function\n",
    "One has $$M_{xy}(\\mu_{x0},\\mu_{0y})=\\exp(-D_{xy}(-\\log \\mu_{x0},-\\log \\mu_{0y}))=\\min_k \\left\\{ \\mu_{x0}^{\\lambda_k}  \\mu_{0y}^ {\\nu_k} e^{ \\Phi^k_{xy}} \\right\\}  $$"
   ]
  },
  {
   "cell_type": "code",
   "execution_count": 3,
   "metadata": {},
   "outputs": [
    {
     "data": {
      "text/plain": [
       "array([[39.45899939, 19.58072703, 27.95071734, 28.8266575 , 24.50328215],\n",
       "       [29.45957833, 12.36433326, 16.70880183, 17.3034927 , 14.34040148],\n",
       "       [19.84066181, 15.91718516, 18.58255001, 32.94379772, 30.50690878],\n",
       "       [35.88931574, 45.28941904, 33.83492863, 72.50573429, 57.01083497],\n",
       "       [48.90182463, 28.92587309, 38.50755154, 45.21330023, 39.75223127]])"
      ]
     },
     "execution_count": 3,
     "metadata": {},
     "output_type": "execute_result"
    }
   ],
   "source": [
    "λ_k = 1 / (2-τ_k)\n",
    "ν_k = (1-τ_k) / (2-τ_k)\n",
    "Φ_k_x_y = np.zeros((nbk,nbx,nby))\n",
    "for k in range(nbk):\n",
    "    for x in range(nbx):\n",
    "        for y in range(nby):\n",
    "            Φ_k_x_y[k,x,y] = λ_k[k]*(α_x_y[x,y]+N_k[k])+ν_k[k] * γ_x_y[x,y]\n",
    "\n",
    "class GKW_model:    \n",
    "    def __init__(self):\n",
    "        self.n_x = n_x\n",
    "        self.m_y = m_y\n",
    "        self.nbx = n_x.size\n",
    "        self.nby = m_y.size\n",
    "        self.eq_μ_x0 = np.array([])\n",
    "        self.eq_μ_0y = np.array([])\n",
    "        self.eq_μ_x_y = np.array([])\n",
    "        self.eq_deltamarg_x = np.array([])\n",
    "        self.eq_deltamarg_y = np.array([])\n",
    "        self.eq_deltainvmarg_x = np.array([])\n",
    "        self.eq_deltainvmarg_y = np.array([])\n",
    "        self.comp_code = -1\n",
    "        self.comp_nbsteps = -1\n",
    "        self.comp_time = -1.0\n",
    "                \n",
    "\n",
    "    def Mxy(self,x,y,μx0,μ0y):\n",
    "        return(np.min(μx0**λ_k * μ0y**ν_k * np.exp(Φ_k_x_y[:,x,y]) ))\n",
    "        \n",
    "    def M_x_y(self,μ_x0,μ_0y):\n",
    "        μ_x_y = np.zeros((self.nbx,self.nby))\n",
    "        for x in range(self.nbx):\n",
    "            for y in range(self.nby):\n",
    "                μ_x_y[x,y] = self.Mxy(x,y,μ_x0[x],μ_0y[y])\n",
    "        return(μ_x_y)\n",
    "\n",
    "#############\n",
    "mkt = GKW_model()\n",
    "μ_x0 = np.ones(nbx)\n",
    "μ_0y = np.ones(nby)\n",
    "\n",
    "mkt.M_x_y(μ_x0,μ_0y)[0:min(nbx,5),0:min(nby,5)]"
   ]
  },
  {
   "cell_type": "markdown",
   "metadata": {},
   "source": [
    "Next, we compute the mappings<br>\n",
    "$\\mu_{x0} \\to \\mu_{x0}+\\sum_y M_{xy}(\\mu_{x0},\\mu_{0y})$ and<br>\n",
    "$\\mu_{0y} \\to \\mu_{0y}+\\sum_x M_{xy}(\\mu_{x0},\\mu_{0y}).$ "
   ]
  },
  {
   "cell_type": "code",
   "execution_count": 4,
   "metadata": {},
   "outputs": [
    {
     "data": {
      "text/plain": [
       "941.356380561038"
      ]
     },
     "execution_count": 4,
     "metadata": {},
     "output_type": "execute_result"
    }
   ],
   "source": [
    "def marginx(self,x,μx0,μ_0y):\n",
    "    nx = μx0\n",
    "    for y in range(nby):\n",
    "        nx +=  self.Mxy(x,y,μx0,μ_0y[y])\n",
    "    return(nx)\n",
    "                                             \n",
    "def marginy(self,y,μ_x0,μ0y):\n",
    "    my = μ0y\n",
    "    for x in range(nbx):\n",
    "        my += self.Mxy(x,y,μ_x0[x],μ0y)\n",
    "    return(my)\n",
    "\n",
    "\n",
    "GKW_model.marginx = marginx\n",
    "GKW_model.marginy = marginy\n",
    "\n",
    "def margin_x(self,μ_x0,μ_0y):\n",
    "    μ_x_y = self.M_x_y(μ_x0,μ_0y)\n",
    "    return(μ_x0+np.sum(μ_x_y,axis = 1))\n",
    "\n",
    "def margin_y(self,μ_x0,μ_0y):\n",
    "    μ_x_y = self.M_x_y(μ_x0,μ_0y)\n",
    "    return(μ_0y+np.sum(μ_x_y,axis = 0))\n",
    "\n",
    "GKW_model.margin_x = margin_x\n",
    "GKW_model.margin_y = margin_y\n",
    "\n",
    "#############\n",
    "mkt.marginx(0,μ_x0[0],μ_0y) #[0:min(nbx,5)]"
   ]
  },
  {
   "cell_type": "markdown",
   "metadata": {},
   "source": [
    "Now we solve in $\\mu_{x0}$ the equation<br>\n",
    "$\\mu_{x0}+\\sum_y M_{xy}(\\mu_{x0},\\mu_{0y})=n_x,$<br>\n",
    "and in $\\mu_{0y}$ the equation<br>\n",
    "$\\mu_{0y}+\\sum_x M_{xy}(\\mu_{x0},\\mu_{0y})=m_y.$\n"
   ]
  },
  {
   "cell_type": "code",
   "execution_count": 5,
   "metadata": {},
   "outputs": [
    {
     "name": "stdout",
     "output_type": "stream",
     "text": [
      "1.4240432990043214e-05\n",
      "6.449459191590883e-09\n"
     ]
    }
   ],
   "source": [
    "import scipy.optimize as opt\n",
    "\n",
    "def invmarginx(self,x,μ_0y):    \n",
    "    newμx0 = opt.brentq(lambda theμx0 : self.marginx(x,theμx0,μ_0y)-self.n_x[x],0,self.n_x[x])\n",
    "    return(newμx0)\n",
    "\n",
    "def invmarginy(self,y,μ_x0):    \n",
    "    newμ0y = opt.brentq(lambda theμ0y : self.marginy(y,μ_x0,theμ0y)-self.m_y[y],0,self.m_y[y])\n",
    "    return(newμ0y )\n",
    "\n",
    "GKW_model.invmarginx = invmarginx\n",
    "GKW_model.invmarginy = invmarginy\n",
    "\n",
    "#############\n",
    "print(mkt.invmarginx(0,μ_0y)) #[0:min(nbx,5)])\n",
    "print(mkt.invmarginy(0,μ_x0)) #[0:min(nby,5)])"
   ]
  },
  {
   "cell_type": "code",
   "execution_count": 6,
   "metadata": {},
   "outputs": [
    {
     "name": "stdout",
     "output_type": "stream",
     "text": [
      "IPFP converged in 19 iterations and  10.74329924583435  seconds.\n",
      "Max absolute margin discrepancy= 9.311990810667581e-07\n",
      "Max absolute update discrepancy = 2.7887852765973165e-07\n",
      "Code = 0\n"
     ]
    }
   ],
   "source": [
    "from time import time\n",
    "\n",
    "def solveIPFP(self, maxit = 1000,maxvaltol=1e-5,maxsteptol=1e-9,output=0):\n",
    "    start_time = time()\n",
    "    code = 0\n",
    "    deltainvmarg_x = np.zeros(self.nbx)\n",
    "    deltainvmarg_y = np.zeros(self.nby)\n",
    "    μ_x0 = np.copy(self.n_x)\n",
    "    μ_0y = np.zeros(self.nby)\n",
    "    for i in range(maxit):\n",
    "        for y in range(self.nby):\n",
    "            newμ0y = self.invmarginy(y,μ_x0)\n",
    "            deltainvmarg_y[y] = newμ0y - μ_0y[y]\n",
    "            μ_0y[y] = newμ0y\n",
    "        for x in range(self.nbx):\n",
    "            newμx0 = self.invmarginx(x,μ_0y)\n",
    "            deltainvmarg_x[x] = newμx0 - μ_x0[x]\n",
    "            μ_x0[x] = newμx0\n",
    "        \n",
    "        deltamarg_x = self.margin_x(μ_x0,μ_0y) - n_x\n",
    "        deltamarg_y = self.margin_y(μ_x0,μ_0y) - m_y\n",
    "        #print(deltainvmarg_x)\n",
    "        #print(deltainvmarg_y)\n",
    "        #print(np.append(deltainvmarg_x,deltainvmarg_y))\n",
    "        steptol = np.max(np.abs( np.append(deltainvmarg_x,deltainvmarg_y) ) ) \n",
    "        valtol = np.max(np.abs(np.append(deltamarg_x,deltamarg_y)) )\n",
    "        \n",
    "        if output > 1 :\n",
    "            print(\"μ_x0=\",μ_x0)\n",
    "        if valtol < maxvaltol :\n",
    "            code = 0\n",
    "            break\n",
    "        if steptol < maxsteptol :\n",
    "            code = 1\n",
    "            break\n",
    "        code = 2\n",
    "    comp_time = time() - start_time\n",
    "    if output > 0 :\n",
    "        print( 'IPFP converged in', i, 'iterations and ',comp_time,' seconds.')\n",
    "        #print('Value of μ_x0=\",μ_x0)\n",
    "        print('Max absolute margin discrepancy=', valtol)            \n",
    "        print('Max absolute update discrepancy =',steptol)\n",
    "        print('Code =',code)\n",
    "\n",
    "    self.eq_μ_x0 = μ_x0\n",
    "    self.eq_μ_0y = μ_0y\n",
    "    self.eq_μ_x_y = self.M_x_y(μ_x0,μ_0y)\n",
    "    self.eq_deltamarg_x = deltamarg_x\n",
    "    self.eq_deltamarg_y = deltamarg_y\n",
    "    self.eq_deltainvmarg_x = deltainvmarg_x\n",
    "    self.eq_deltainvmarg_y = deltainvmarg_y\n",
    "    self.comp_code = code\n",
    "    self.comp_nbsteps = i\n",
    "    self.comp_time = comp_time\n",
    "    return code\n",
    "\n",
    "    \n",
    "GKW_model.solveIPFP = solveIPFP\n",
    "#############\n",
    "res=mkt.solveIPFP(output=1,maxvaltol=1e-6,maxsteptol=1e-9)  "
   ]
  },
  {
   "cell_type": "markdown",
   "metadata": {},
   "source": [
    "## Recovering the wages\n",
    "\n",
    "Recall that we had<br>\n",
    "$n_{xy}=U_{xy}-\\alpha_{xy}$ and $w_{xy} = \\gamma_{xy} -V_{xy}$,<br>\n",
    "and<br>\n",
    "$U_{xy} = \\log \\frac {\\mu_{xy}} {\\mu_{x0}} $ and $V_{xy} = \\log \\frac {\\mu_{xy}} {\\mu_{0y}},$<br>\n",
    "so as a result, we can compute:"
   ]
  },
  {
   "cell_type": "code",
   "execution_count": 7,
   "metadata": {},
   "outputs": [],
   "source": [
    "nw_x_y = np.log(mkt.eq_μ_x_y / np.repeat(mkt.eq_μ_x0.reshape(-1,1),nby,axis=1) ) - α_x_y\n",
    "gw_x_y = γ_x_y - np.log(mkt.eq_μ_x_y / np.repeat(mkt.eq_μ_0y.reshape(1,-1),nbx,axis=0) )"
   ]
  },
  {
   "cell_type": "code",
   "execution_count": 8,
   "metadata": {},
   "outputs": [
    {
     "name": "stdout",
     "output_type": "stream",
     "text": [
      "New wages:\n",
      "[1.30385757 0.8935055  1.10284918 2.04620117 1.75178446 1.73521571\n",
      " 1.48968658 1.37191615 2.06500547 1.52605521 0.76707772 1.81318585\n",
      " 2.30519593 2.22903284 1.14984461 2.09419898 1.1192523  1.7028357\n",
      " 1.96691546 1.39262044 1.46455772 0.55568796 1.28304339 1.290824\n",
      " 1.7754926  1.57292504 0.88985516 2.37878593 0.45871257 1.55522205\n",
      " 1.11066551 1.7484393  0.52394862 0.49697816 0.85967415 1.17476213\n",
      " 1.35904467 1.29928919 2.04306736 1.51228265 1.49612857 1.53383193\n",
      " 2.15068702 1.37190312 1.64722548 2.48953741 1.05462905 2.21522184\n",
      " 0.80869984 1.24276472]\n",
      "Gross wages:\n",
      "[1.78593497 1.20074426 1.48886591 2.87182579 2.44261692 2.41372419\n",
      " 2.05275854 1.8806596  2.89865695 2.1131941  1.01282072 2.53255592\n",
      " 3.25536533 3.14186617 1.55827555 2.94915694 1.51846839 2.36989825\n",
      " 2.76454771 1.91620008 2.02248659 0.72306444 1.75281883 1.76344577\n",
      " 2.47761834 2.17851614 1.18232484 3.364415   0.58675593 2.1524392\n",
      " 1.50923563 2.43266909 0.67013796 0.63383778 1.14035533 1.59421399\n",
      " 1.86219225 1.77692929 2.86701582 2.08654973 2.06239681 2.12485099\n",
      " 3.0320895  1.880463   2.28371967 3.5300437  1.43216044 3.13132773\n",
      " 1.07116416 1.69592063]\n"
     ]
    }
   ],
   "source": [
    "nw_x = np.sum(nw_x_y * mkt.eq_μ_x_y,axis = 1) / n_x\n",
    "gw_x = np.sum(gw_x_y * mkt.eq_μ_x_y,axis = 1) / n_x\n",
    "print('New wages:')\n",
    "print(nw_x)\n",
    "print('Gross wages:')\n",
    "print(gw_x)"
   ]
  }
 ],
 "metadata": {
  "kernelspec": {
   "display_name": "Python 3",
   "language": "python",
   "name": "python3"
  },
  "language_info": {
   "codemirror_mode": {
    "name": "ipython",
    "version": 3
   },
   "file_extension": ".py",
   "mimetype": "text/x-python",
   "name": "python",
   "nbconvert_exporter": "python",
   "pygments_lexer": "ipython3",
   "version": "3.7.6"
  }
 },
 "nbformat": 4,
 "nbformat_minor": 4
}
