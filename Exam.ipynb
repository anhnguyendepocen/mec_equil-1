{
 "cells": [
  {
   "cell_type": "markdown",
   "metadata": {},
   "source": [
    "# <center>Final exam</center>\n",
    "### <center>Alfred Galichon (NYU)</center>\n",
    "## <center>'math+econ+code' masterclass on equilibrium transport and matching models in economics</center>\n",
    "<center>© 2020 by Alfred Galichon. Support from  NSF DMS-1716489 and ERC CoG-866274 EQUIPRICE grants is acknowledged.</center>\n",
    "\n",
    "#### <center>Take-home exam, June 27-28 2020.</center>\n",
    "\n"
   ]
  },
  {
   "cell_type": "markdown",
   "metadata": {},
   "source": [
    "* You have until Sunday, June 28 2020, 12pm noon (New York time) to complete this exam and return it to me by email.\n",
    "* Please submit at or before Feb 2 2020, 6pm noon EST, by emailing me: ag133@nyu.edu. This is a strict deadline. If you don't submit an exam or if you submit after the deadline, you will be automatically considered to opt for a course paper submission.\n",
    "* You are stongly encouraged to submit your answers in this jupyter notebook. It should be self-contained, i.e. the code should run without modification on my part. You may therefore need to import code from the lecture notebooks in order to prepare the data.\n",
    "* Communication with other students or anyone else regarding this exam is prohibited. The consultation of the course material (which is available online at https://github.com/math-econ-code/mec_equil1) as well as personal notes taken during the course are acceptable.\n",
    "* Please answer FOUR of the five independent questions below. If you answer more than four, we will consider the four best you answered for the grade."
   ]
  },
  {
   "cell_type": "markdown",
   "metadata": {},
   "source": [
    "**Question 1:** ***Consider the Gauss-Seidel algorithm we used to solve for equilibrium prices on Day 1, and provide a parallel implementation of it. Give a numerical benchmark with the serial method that was given in class.***"
   ]
  },
  {
   "cell_type": "code",
   "execution_count": null,
   "metadata": {},
   "outputs": [],
   "source": [
    "# code for question 1"
   ]
  },
  {
   "cell_type": "markdown",
   "metadata": {},
   "source": [
    "[Answers for question 1]"
   ]
  },
  {
   "cell_type": "markdown",
   "metadata": {},
   "source": [
    "**Question 2:** ***Recall what Newton's method is (search online if you need). Consider the Choo-Siow model shown on Day 2. In addition to the two algorithms that were provided, implement a computation of the equilibirum by Newton descent. Give a numerical benchmark with the two algorithms that were given in class.***"
   ]
  },
  {
   "cell_type": "code",
   "execution_count": null,
   "metadata": {},
   "outputs": [],
   "source": [
    "# code for question 2"
   ]
  },
  {
   "cell_type": "markdown",
   "metadata": {},
   "source": [
    "[Answers for question 2]"
   ]
  },
  {
   "cell_type": "markdown",
   "metadata": {},
   "source": [
    "**Question 3:** ***Consider the employer-employee matching model that was presented in Day 3. Assume that there are no transfers possible whatsoever.<br> \n",
    "(i) Argue that the distance function is then given by***\n",
    "$$ D_{xy}(U,V) = \\max \\left\\{U-\\alpha_{xy},V-\\gamma_{xy} \\right\\}.$$\n",
    "***(ii) What is the matching function in that case?***<br>\n",
    "***(iii) Compute the equilibrium matching.***"
   ]
  },
  {
   "cell_type": "code",
   "execution_count": null,
   "metadata": {},
   "outputs": [],
   "source": [
    "# code for question 3"
   ]
  },
  {
   "cell_type": "markdown",
   "metadata": {},
   "source": [
    "[Answers for question 3]"
   ]
  },
  {
   "cell_type": "markdown",
   "metadata": {},
   "source": [
    "**Question 4:** ***Consider the matching market described in Day 4, with the same $\\alpha_{xy}$ and $\\gamma_{xy}$ but assume in addition that firms have the possibility to pay wages to the workers. There is a discrete menu of possible gross wages which are given by***<br>\n",
    "``wages = np.arange(0,5.0,0.1)``<br>\n",
    "***while the net wages are given by***<br>\n",
    "``NetFromGross(wages)``<br>\n",
    "***where the ``NetFromGross`` function is the one given in Day 3.***<br>\n",
    "***(i) Show that Adachi's theorem extends to this case, i.e. a stable matching is characterized by***<br>\n",
    "$$u_x = \\max_{y,c} \\left\\{ \\alpha_{xy} + N(w_c) : \\gamma_{xy} - w_c \\geq v_y \\right\\} \\\\\n",
    "v_y = \\max_{y,c} \\left\\{ \\gamma_{xy} - w_c : \\alpha_{xy} + N(w_c) \\geq v_y \\right\\}$$\n",
    "\n",
    "***(ii) Describe an extension of Adachi's algorithm and reformulate as an equilibrium problem with Gross Substitutes.***<br>\n",
    "***(iii) Implement the above algorithm and compute the stable matching.***"
   ]
  },
  {
   "cell_type": "code",
   "execution_count": null,
   "metadata": {},
   "outputs": [],
   "source": [
    "# code for question 4"
   ]
  },
  {
   "cell_type": "markdown",
   "metadata": {},
   "source": [
    "[Answers for question 4]"
   ]
  },
  {
   "cell_type": "markdown",
   "metadata": {},
   "source": [
    "**Question 5:** ***Implement the dynamic programming algorithm described in Day 5 to compute the shortest path from NYU Paris to Sciences Po (using the coordinates that were determined in the manner show in class).*** <br>\n",
    "***[Note: if you run in trouble installing the ``osmnx`` package, try***<br>\n",
    "``dnf install -y spatialindex-devel``<br>\n",
    "``pip3 install osmnx``<br>\n",
    "***which should work. If you still run into problem, you are welcome to simulate a simple network to run your algorithm.***"
   ]
  },
  {
   "cell_type": "code",
   "execution_count": null,
   "metadata": {},
   "outputs": [],
   "source": [
    "# code for question 5"
   ]
  },
  {
   "cell_type": "markdown",
   "metadata": {},
   "source": [
    "[Answers for question 5]"
   ]
  }
 ],
 "metadata": {
  "kernelspec": {
   "display_name": "Python 3",
   "language": "python",
   "name": "python3"
  },
  "language_info": {
   "codemirror_mode": {
    "name": "ipython",
    "version": 3
   },
   "file_extension": ".py",
   "mimetype": "text/x-python",
   "name": "python",
   "nbconvert_exporter": "python",
   "pygments_lexer": "ipython3",
   "version": "3.7.6"
  }
 },
 "nbformat": 4,
 "nbformat_minor": 2
}
